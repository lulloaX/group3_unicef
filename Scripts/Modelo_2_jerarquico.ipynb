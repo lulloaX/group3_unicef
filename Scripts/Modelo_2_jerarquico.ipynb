{
  "nbformat": 4,
  "nbformat_minor": 0,
  "metadata": {
    "colab": {
      "provenance": []
    },
    "kernelspec": {
      "name": "python3",
      "display_name": "Python 3"
    },
    "language_info": {
      "name": "python"
    }
  },
  "cells": [
    {
      "cell_type": "code",
      "execution_count": 1,
      "metadata": {
        "colab": {
          "base_uri": "https://localhost:8080/"
        },
        "id": "t5mv1-zwNsZq",
        "outputId": "3cd776d7-a622-436d-da3e-872ef423314d"
      },
      "outputs": [
        {
          "output_type": "stream",
          "name": "stdout",
          "text": [
            "Mounted at /content/drive\n"
          ]
        }
      ],
      "source": [
        "from  google.colab import drive\n",
        "drive.mount('/content/drive')"
      ]
    },
    {
      "cell_type": "code",
      "source": [
        "import numpy as np\n",
        "import statsmodels.api as sm\n",
        "import pandas as pd\n",
        "from sklearn.model_selection import train_test_split\n",
        "from sklearn.linear_model import LinearRegression\n",
        "from sklearn.model_selection import GridSearchCV\n",
        "from sklearn.metrics import mean_squared_error, mean_absolute_percentage_error, r2_score"
      ],
      "metadata": {
        "id": "ZEB_EzRjN3Ft"
      },
      "execution_count": 35,
      "outputs": []
    },
    {
      "cell_type": "code",
      "source": [
        "# Leer el archivo CSV\n",
        "archivo_csv = '/content/drive/MyDrive/Grupo 3 - DATA/df_result_2_tomodel_noh.csv'\n",
        "datos = pd.read_csv(archivo_csv)"
      ],
      "metadata": {
        "id": "Qp_9X8cLN7Pa"
      },
      "execution_count": 36,
      "outputs": []
    },
    {
      "cell_type": "code",
      "source": [
        "datos.rename(columns={\"CANTIDAD DE PERSONAL\": \"CANTIDAD_DE_PERSONAL\"}, inplace = True)"
      ],
      "metadata": {
        "id": "gqQdLfqeQOO7"
      },
      "execution_count": 37,
      "outputs": []
    },
    {
      "cell_type": "code",
      "source": [
        "datos[\"CANTIDAD_DE_PERSONAL\"] = np.log(datos[\"CANTIDAD_DE_PERSONAL\"] + 0.001)\n",
        "datos[\"CANTIDAD\"] = np.log(datos[\"CANTIDAD\"] + 0.001)\n",
        "datos[\"PRESUPUESTO\"] = np.log(datos[\"PRESUPUESTO\"] + 0.001)\n",
        "datos[\"POBLACION\"] = np.log(datos[\"POBLACION\"] + 0.001)"
      ],
      "metadata": {
        "id": "NgN5JXA5WPR3"
      },
      "execution_count": 38,
      "outputs": []
    },
    {
      "cell_type": "code",
      "source": [
        "datos[\"c\"] = datos[\"VACUNA\"].astype(str) + datos[\"ANIO\"].astype(str)"
      ],
      "metadata": {
        "id": "fvk7h99nT0Gi"
      },
      "execution_count": 39,
      "outputs": []
    },
    {
      "cell_type": "code",
      "source": [
        "model = sm.MixedLM.from_formula(\"CANTIDAD ~ CANTIDAD_DE_PERSONAL + PRESUPUESTO + POBLACION\", data=datos, groups=datos[\"c\"])\n",
        "result = model.fit()\n",
        "\n",
        "print(result.summary())"
      ],
      "metadata": {
        "colab": {
          "base_uri": "https://localhost:8080/"
        },
        "id": "DeQLoOFNPdxC",
        "outputId": "5f22730f-5a71-42e6-e380-6e258e51a43b"
      },
      "execution_count": 40,
      "outputs": [
        {
          "output_type": "stream",
          "name": "stdout",
          "text": [
            "             Mixed Linear Model Regression Results\n",
            "===============================================================\n",
            "Model:              MixedLM   Dependent Variable:   CANTIDAD   \n",
            "No. Observations:   10440     Method:               REML       \n",
            "No. Groups:         56        Scale:                5.2966     \n",
            "Min. group size:    84        Log-Likelihood:       -23600.3511\n",
            "Max. group size:    408       Converged:            Yes        \n",
            "Mean group size:    186.4                                      \n",
            "---------------------------------------------------------------\n",
            "                     Coef.  Std.Err.   z    P>|z| [0.025 0.975]\n",
            "---------------------------------------------------------------\n",
            "Intercept            -4.693    0.768 -6.110 0.000 -6.199 -3.188\n",
            "CANTIDAD_DE_PERSONAL  1.032    0.055 18.870 0.000  0.925  1.139\n",
            "PRESUPUESTO          -0.043    0.050 -0.859 0.390 -0.142  0.055\n",
            "POBLACION             0.324    0.057  5.716 0.000  0.213  0.436\n",
            "Group Var             0.466    0.042                           \n",
            "===============================================================\n",
            "\n"
          ]
        }
      ]
    },
    {
      "cell_type": "code",
      "source": [
        "datos[\"d\"] = datos[\"VACUNA\"].astype(str) + datos[\"ANIO\"].astype(str) + datos[\"PROVINCIA\"].astype(str)"
      ],
      "metadata": {
        "id": "dmEqz879Vwmb"
      },
      "execution_count": 41,
      "outputs": []
    },
    {
      "cell_type": "code",
      "source": [
        "model2 = sm.MixedLM.from_formula(\"CANTIDAD ~ CANTIDAD_DE_PERSONAL + PRESUPUESTO + POBLACION\", data=datos, groups=datos[\"d\"])\n",
        "result2 = model2.fit()\n",
        "\n",
        "print(result2.summary())"
      ],
      "metadata": {
        "colab": {
          "base_uri": "https://localhost:8080/"
        },
        "id": "UdSpJNuXVpVP",
        "outputId": "afa9f767-6468-43f2-d8f5-9860edfbba74"
      },
      "execution_count": 42,
      "outputs": [
        {
          "output_type": "stream",
          "name": "stdout",
          "text": [
            "             Mixed Linear Model Regression Results\n",
            "===============================================================\n",
            "Model:              MixedLM   Dependent Variable:   CANTIDAD   \n",
            "No. Observations:   10440     Method:               REML       \n",
            "No. Groups:         196       Scale:                5.0840     \n",
            "Min. group size:    12        Log-Likelihood:       -23514.6720\n",
            "Max. group size:    168       Converged:            Yes        \n",
            "Mean group size:    53.3                                       \n",
            "---------------------------------------------------------------\n",
            "                     Coef.  Std.Err.   z    P>|z| [0.025 0.975]\n",
            "---------------------------------------------------------------\n",
            "Intercept            -3.756    0.762 -4.927 0.000 -5.250 -2.262\n",
            "CANTIDAD_DE_PERSONAL  1.172    0.062 19.018 0.000  1.052  1.293\n",
            "PRESUPUESTO          -0.030    0.049 -0.606 0.544 -0.126  0.067\n",
            "POBLACION             0.137    0.062  2.199 0.028  0.015  0.259\n",
            "Group Var             0.812    0.045                           \n",
            "===============================================================\n",
            "\n"
          ]
        }
      ]
    }
  ]
}